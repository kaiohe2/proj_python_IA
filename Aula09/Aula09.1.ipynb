
{
  "cells": [
    {
      "cell_type": "code",
      "execution_count": 29,
      "metadata": {
        "colab": {
          "base_uri": "https://localhost:8080/"
        },
        "id": "nFpNyk0g6DBi",
        "outputId": "d5b96f41-95ef-4cb3-8e01-eaef767d9a97"
      },
      "outputs": [
        {
          "name": "stdout",
          "output_type": "stream",
          "text": [
            "Requirement already satisfied: nltk in /usr/local/lib/python3.10/dist-packages (3.8.1)\n",
            "Requirement already satisfied: textblob in /usr/local/lib/python3.10/dist-packages (0.17.1)\n",
            "Requirement already satisfied: click in /usr/local/lib/python3.10/dist-packages (from nltk) (8.1.7)\n",
            "Requirement already satisfied: joblib in /usr/local/lib/python3.10/dist-packages (from nltk) (1.4.2)\n",
            "Requirement already satisfied: regex>=2021.8.3 in /usr/local/lib/python3.10/dist-packages (from nltk) (2024.9.11)\n",
            "Requirement already satisfied: tqdm in /usr/local/lib/python3.10/dist-packages (from nltk) (4.66.5)\n"
          ]
        }
      ],
      "source": [
        "pip install nltk textblob"
      ]
    },
    {
      "cell_type": "code",
      "execution_count": 30,
      "metadata": {
        "id": "NfmAO6qy8H4-"
      },
      "outputs": [],
      "source": [
        "import nltk\n",
        "from nltk.corpus import stopwords\n",
        "from nltk.tokenize import word_tokenize\n",
        "from textblob import TextBlob"
      ]
    },
    {
      "cell_type": "markdown",
      "metadata": {
        "id": "hN3KoBbV_dHC"
      },
      "source": [
        "Baixar os componentes NLKT necessários"
      ]
    },
    {
      "cell_type": "code",
      "execution_count": 31,
      "metadata": {
        "colab": {
          "base_uri": "https://localhost:8080/"
        },
        "id": "0S8JL5JD-aPD",
        "outputId": "efb29ae9-ee4b-4b68-8def-9946c69e28d2"
      },
      "outputs": [
        {
          "name": "stderr",
          "output_type": "stream",
          "text": [
            "[nltk_data] Downloading package punkt to /root/nltk_data...\n",
            "[nltk_data]   Package punkt is already up-to-date!\n",
            "[nltk_data] Downloading package stopwords to /root/nltk_data...\n",
            "[nltk_data]   Package stopwords is already up-to-date!\n"
          ]
        },
        {
          "data": {
            "text/plain": [
              "True"
            ]
          },
          "execution_count": 31,
          "metadata": {},
          "output_type": "execute_result"
        }
      ],
      "source": [
        "nltk.download('punkt')\n",
        "nltk.download('stopwords')"
      ]
    },
    {
      "cell_type": "markdown",
      "metadata": {
        "id": "mQD3qi4bAo9L"
      },
      "source": [
        "Função de pré processamento de texto"
      ]
    },
    {
      "cell_type": "code",
      "execution_count": 40,
      "metadata": {
        "id": "0EYHHB25BraF"
      },
      "outputs": [],
      "source": [
        "def preprocesso(texto):\n",
        "    #Tokenzização\n",
        "    tokens = word_tokenize(texto.lower())\n",
        "\n",
        "    #Remover os espaços das frases\n",
        "    espacos = set(stopwords.words('english'))\n",
        "\n",
        "    #Filtrando os tokens\n",
        "    tokens_filtrados = [palavra for palavra in tokens if palavra.isalnum() and palavra not in espacos]\n",
        "    #Retorno da função\n",
        "    return ''.join(tokens_filtrados)\n"
      ]
    },
    {
      "cell_type": "markdown",
      "metadata": {
        "id": "T9zX8dUEINdw"
      },
      "source": [
        "Função analise de sentimentos"
      ]
    },
    {
      "cell_type": "code",
      "execution_count": 33,
      "metadata": {
        "id": "ClzNjv0GIXsk"
      },
      "outputs": [],
      "source": [
        "def sentimentos(texto):\n",
        "\n",
        "  #Limpando o texto digitado\n",
        "  texto_limpo = preprocesso(texto)\n",
        "\n",
        "  #Analise de sentimentos do texto\n",
        "  blob = TextBlob(texto_limpo)\n",
        "\n",
        "  #Aplicando a polaridade do sentimento\n",
        "  sentimentos =  blob.sentiment.polarity\n",
        "\n",
        "  #Retornado a pontuação\n",
        "  return sentimentos"
      ]
    },
    {
      "cell_type": "markdown",
      "metadata": {
        "id": "ttZqt6phKfwv"
      },
      "source": [
        "Listas de frases com sentimentos"
      ]
    },
    {
      "cell_type": "code",
      "execution_count": 34,
      "metadata": {
        "id": "B7Q9rccxLDwg"
      },
      "outputs": [],
      "source": [
        "Frases = [\"This app helped me find my perfect match; the user experience is seamless and intuitive!\",\n",
        "          \"The variety of profiles is amazing, making it easy to connect with interesting people.\",\n",
        "          \"I love the messaging feature; it allows for meaningful conversations right from the start!\",\n",
        "          \"This app has a fantastic community; everyone is supportive and friendly.\"\n",
        "          \"The design is modern and appealing, making the whole experience enjoyable!\",\n",
        "          \"I encountered too many fake profiles, which made the experience frustrating.,\",\n",
        "          \"The matching algorithm seems off; I keep getting suggestions that don’t align with my interests.\",\n",
        "          \"The app crashes frequently, making it hard to have smooth conversations.\",\n",
        "          \"I wish there were more filters to refine my search; it feels overwhelming at times.\",\n",
        "          \"Customer support is lacking; it took too long to get a response to my issue.\"\n",
        "          ]"
      ]
    },
    {
      "cell_type": "markdown",
      "metadata": {
        "id": "0xvj6EHsNv0B"
      },
      "source": [
        "Exibindo a frase e sua pontuanção"
      ]
    },
    {
      "cell_type": "code",
      "execution_count": 41,
      "metadata": {
        "colab": {
          "base_uri": "https://localhost:8080/"
        },
        "id": "2II7x4qrOCr2",
        "outputId": "25a89712-c47d-40d2-89ce-97ca029a3007"
      },
      "outputs": [
        {
          "name": "stdout",
          "output_type": "stream",
          "text": [
            "comentario: This app helped me find my perfect match; the user experience is seamless and intuitive!\n",
            "Pontuação:0.0\n",
            "\n",
            "comentario: The variety of profiles is amazing, making it easy to connect with interesting people.\n",
            "Pontuação:0.0\n",
            "\n",
            "comentario: I love the messaging feature; it allows for meaningful conversations right from the start!\n",
            "Pontuação:0.0\n",
            "\n",
            "comentario: This app has a fantastic community; everyone is supportive and friendly.The design is modern and appealing, making the whole experience enjoyable!\n",
            "Pontuação:0.0\n",
            "\n",
            "comentario: I encountered too many fake profiles, which made the experience frustrating.,\n",
            "Pontuação:0.0\n",
            "\n",
            "comentario: The matching algorithm seems off; I keep getting suggestions that don’t align with my interests.\n",
            "Pontuação:0.0\n",
            "\n",
            "comentario: The app crashes frequently, making it hard to have smooth conversations.\n",
            "Pontuação:0.0\n",
            "\n",
            "comentario: I wish there were more filters to refine my search; it feels overwhelming at times.\n",
            "Pontuação:0.0\n",
            "\n",
            "comentario: Customer support is lacking; it took too long to get a response to my issue.\n",
            "Pontuação:0.0\n",
            "\n"
          ]
        }
      ],
      "source": [
        "for comentario in Frases:\n",
        "  nivel = sentimentos(comentario)\n",
        "  print(f\"comentario: {comentario}\\nPontuação:{nivel}\\n\")"
      ]
    }
  ],
  "metadata": {
    "colab": {
      "name": "Olá, este é o Colaboratory",
      "provenance": [],
      "toc_visible": true
    },
    "kernelspec": {
      "display_name": "Python 3",
      "name": "python3"
    }
  },
  "nbformat": 4,
  "nbformat_minor": 0
}
